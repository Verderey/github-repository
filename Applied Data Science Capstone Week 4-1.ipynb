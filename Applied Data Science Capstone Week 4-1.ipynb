{
 "cells": [
  {
   "cell_type": "markdown",
   "metadata": {},
   "source": [
    "# Applied Data Science Capstone Week 4"
   ]
  },
  {
   "cell_type": "markdown",
   "metadata": {},
   "source": [
    "# The Battle of Neighborhoods - Part 1"
   ]
  },
  {
   "cell_type": "markdown",
   "metadata": {},
   "source": [
    "## Title : Recommender System for Hotels in Casablanca"
   ]
  },
  {
   "cell_type": "markdown",
   "metadata": {},
   "source": [
    "### Problem Background:"
   ]
  },
  {
   "cell_type": "markdown",
   "metadata": {},
   "source": [
    "Casablanca is known as the economical capital of Morocco.  As per the 2018 statistics, the population of Casablanca is about 6,000,000 and the geographical area is 125.1 sq mi. "
   ]
  },
  {
   "cell_type": "markdown",
   "metadata": {},
   "source": [
    "Morocco is known by its cuisine, and because of the city is considered the largest one in Morocco, it consists of thousands of Hotels and Restaurants."
   ]
  },
  {
   "cell_type": "markdown",
   "metadata": {},
   "source": [
    "### Problem Description:"
   ]
  },
  {
   "cell_type": "markdown",
   "metadata": {},
   "source": [
    "People go around the city of Casablanca, either as a part of their work or for enjoying the vacation. They would like to know the type of food available in a particular area (neighborhood) they visit. In such a scenario, they can make use of the Recommender System, which should address the following points:\n",
    "1. Nearest restaurant with a good rating\n",
    "1. Type of food available in that restaurant\n",
    "1. Similar restaurants located nearby\n",
    "1. Comparison between them"
   ]
  },
  {
   "cell_type": "markdown",
   "metadata": {},
   "source": [
    "### Target Audience:"
   ]
  },
  {
   "cell_type": "markdown",
   "metadata": {},
   "source": [
    "People could simply decide to look for a similar restaurant all the time because they are addicted to a specific category of food. People who rarely use restaurants would prefer to have the most rated restaurants nearby them and all this information could be easily provided by this system. So, the target audience for this project is basically everyone who is exploring different places and various types of food they would like to taste."
   ]
  },
  {
   "cell_type": "markdown",
   "metadata": {},
   "source": [
    "### Success Rate:"
   ]
  },
  {
   "cell_type": "markdown",
   "metadata": {},
   "source": [
    "With more and more restaurants evolving, new food categories emerge, and hybrid food starts to be more popular, people need a system that could help them access numerous varieties of food. It is impossible for a person to get these information manually. In such a situation, the Recommender System can be used as a personal assistant and success rate would certainly increase with time.\n"
   ]
  },
  {
   "cell_type": "code",
   "execution_count": null,
   "metadata": {},
   "outputs": [],
   "source": []
  }
 ],
 "metadata": {
  "kernelspec": {
   "display_name": "Python 3",
   "language": "python",
   "name": "python3"
  },
  "language_info": {
   "codemirror_mode": {
    "name": "ipython",
    "version": 3
   },
   "file_extension": ".py",
   "mimetype": "text/x-python",
   "name": "python",
   "nbconvert_exporter": "python",
   "pygments_lexer": "ipython3",
   "version": "3.6.8"
  }
 },
 "nbformat": 4,
 "nbformat_minor": 2
}
